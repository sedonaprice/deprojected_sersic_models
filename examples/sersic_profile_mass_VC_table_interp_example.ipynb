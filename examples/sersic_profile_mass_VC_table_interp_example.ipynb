{
 "cells": [
  {
   "cell_type": "markdown",
   "metadata": {},
   "source": [
    "# Using pre-calculated tables & interpolation"
   ]
  },
  {
   "cell_type": "markdown",
   "metadata": {},
   "source": [
    "For convenience (and to save computation time!), profiles over a range of radii have been computed for the following set of Sersic indices `n` and flattening (or \"stretching,\" if prolate) `invq`:\n",
    "\n",
    "    n_arr =     np.arange(0.5, 8.1, 0.1)\n",
    "    invq_arr =  np.array([1., 2., 3., 4., 5., 6., 7., 8., 10., 20., 100.,\n",
    "                          1.11, 1.25, 1.43, 1.67, 2.5, 3.33, 0.5, 0.67])\n",
    "                          \n",
    "These tables can be loaded as follows."
   ]
  },
  {
   "cell_type": "markdown",
   "metadata": {},
   "source": []
  },
  {
   "cell_type": "markdown",
   "metadata": {},
   "source": [
    "By default, if `table_path` is not specified, then the system variable ``SERSIC_PROFILE_MASS_VC_DATADIR`` (e.g., in your `.bashrc` file) is used."
   ]
  },
  {
   "cell_type": "markdown",
   "metadata": {},
   "source": []
  },
  {
   "cell_type": "markdown",
   "metadata": {},
   "source": []
  },
  {
   "cell_type": "code",
   "execution_count": null,
   "metadata": {},
   "outputs": [],
   "source": []
  },
  {
   "cell_type": "code",
   "execution_count": null,
   "metadata": {},
   "outputs": [],
   "source": []
  },
  {
   "cell_type": "code",
   "execution_count": null,
   "metadata": {},
   "outputs": [],
   "source": []
  }
 ],
 "metadata": {
  "kernelspec": {
   "display_name": "Python 3",
   "language": "python",
   "name": "python3"
  },
  "language_info": {
   "codemirror_mode": {
    "name": "ipython",
    "version": 3
   },
   "file_extension": ".py",
   "mimetype": "text/x-python",
   "name": "python",
   "nbconvert_exporter": "python",
   "pygments_lexer": "ipython3",
   "version": "3.6.8"
  }
 },
 "nbformat": 4,
 "nbformat_minor": 2
}
