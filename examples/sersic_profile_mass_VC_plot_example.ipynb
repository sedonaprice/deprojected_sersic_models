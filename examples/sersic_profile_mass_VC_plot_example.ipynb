{
 "cells": [
  {
   "cell_type": "markdown",
   "metadata": {},
   "source": [
    "# Built-in plotting functions"
   ]
  },
  {
   "cell_type": "markdown",
   "metadata": {},
   "source": [
    "A few plotting functions are available to visualize \n",
    "the various profiles of the deprojected Sersic mass distributions."
   ]
  },
  {
   "cell_type": "code",
   "execution_count": null,
   "metadata": {},
   "outputs": [],
   "source": []
  },
  {
   "cell_type": "markdown",
   "metadata": {},
   "source": [
    "Note that the plotting functions can be passed either individual pre-computed tables or ``DeprojSersicDist`` instances, or a list of these types."
   ]
  },
  {
   "cell_type": "code",
   "execution_count": null,
   "metadata": {},
   "outputs": [],
   "source": [
    "\n",
    "import os\n",
    "import numpy as np\n",
    "import matplotlib.pyplot as plt\n",
    "import sersic_profile_mass_VC as spm\n",
    "table_dir = os.getenv('SERSIC_PROFILE_MASS_VC_DATADIR')\n",
    "\n",
    "total_mass = 1.e11\n",
    "Reff = 5.0\n",
    "n = 1.0\n",
    "r = np.arange(0., 30.1, 0.1)\n",
    "invq_arr = [1., 2.5, 3.33, 5., 10.]\n",
    "\n",
    "for invq in invq_arr:\n",
    "    vc = spm.interpolate_sersic_profile_VC(r=r, total_mass=total_mass, Reff=Reff,\n",
    "                                       n=n, invq=invq, path=table_dir)\n",
    "    plt.plot(r, vc, '-', label='q={:0.2f}'.format(1./invq))\n",
    "\n",
    "plt.xlabel('Radius [kpc]')\n",
    "plt.ylabel('Circular velocity [km/s]')\n",
    "plt.legend(title='Intrinic axis ratio')\n",
    "\n",
    "plt.tight_layout()\n",
    "plt.show()\n"
   ]
  }
 ],
 "metadata": {
  "kernelspec": {
   "display_name": "Python 3",
   "language": "python",
   "name": "python3"
  },
  "language_info": {
   "codemirror_mode": {
    "name": "ipython",
    "version": 3
   },
   "file_extension": ".py",
   "mimetype": "text/x-python",
   "name": "python",
   "nbconvert_exporter": "python",
   "pygments_lexer": "ipython3",
   "version": "3.6.8"
  }
 },
 "nbformat": 4,
 "nbformat_minor": 2
}
